{
 "cells": [
  {
   "cell_type": "code",
   "execution_count": null,
   "id": "2726647e-658a-40e8-927f-1afd22dc2085",
   "metadata": {},
   "outputs": [],
   "source": [
    "1) Matplotlib is a Python library used for creating static, animated, and interactive visualizations in Python. It is widely used for generating plots, histograms, power spectra, bar charts, error charts, scatterplots, etc. Five plots that can be plotted using the Pyplot module of Matplotlib are:\n",
    "\n",
    "Line plot\n",
    "Scatter plot\n",
    "Bar plot\n",
    "Histogram\n",
    "Box plot"
   ]
  },
  {
   "cell_type": "code",
   "execution_count": null,
   "id": "8dcaa7d1-aeb6-4717-8a7d-d961e3dcf2a3",
   "metadata": {},
   "outputs": [],
   "source": [
    "2) A scatter plot is a type of plot that displays values for two variables as points on a two-dimensional coordinate system. It is used to identify the relationship between the two variables.\n",
    "\n",
    "import numpy as np\n",
    "import matplotlib.pyplot as plt\n",
    "\n",
    "np.random.seed(3)\n",
    "x = 3 + np.random.normal(0, 2, 50)\n",
    "y = 3 + np.random.normal(0, 2, len(x))\n",
    "\n",
    "plt.scatter(x, y)\n",
    "plt.title('Scatter Plot')\n",
    "plt.xlabel('X-axis')\n",
    "plt.ylabel('Y-axis')\n",
    "plt.show()\n"
   ]
  },
  {
   "cell_type": "code",
   "execution_count": null,
   "id": "2810a2b5-c6f6-42f7-86e0-52ed76f4cb71",
   "metadata": {},
   "outputs": [],
   "source": [
    "3) The subplot() function is used to create multiple plots (subplots) within the same figure. It allows you to arrange multiple plots in a grid-like fashion. Here's the code to draw four line plots using the subplot() function\n",
    "\n",
    "import numpy as np\n",
    "import matplotlib.pyplot as plt\n",
    "\n",
    "x1 = np.array([0, 1, 2, 3, 4, 5])\n",
    "y1 = np.array([0, 100, 200, 300, 400, 500])\n",
    "\n",
    "x2 = np.array([0, 1, 2, 3, 4, 5])\n",
    "y2 = np.array([50, 20, 40, 20, 60, 70])\n",
    "\n",
    "x3 = np.array([0, 1, 2, 3, 4, 5])\n",
    "y3 = np.array([10, 20, 30, 40, 50, 60])\n",
    "\n",
    "x4 = np.array([0, 1, 2, 3, 4, 5])\n",
    "y4 = np.array([200, 350, 250, 550, 450, 150])\n",
    "\n",
    "plt.subplot(2, 2, 1)\n",
    "plt.plot(x1, y1)\n",
    "plt.title('Line Plot 1')\n",
    "\n",
    "plt.subplot(2, 2, 2)\n",
    "plt.plot(x2, y2)\n",
    "plt.title('Line Plot 2')\n",
    "\n",
    "plt.subplot(2, 2, 3)\n",
    "plt.plot(x3, y3)\n",
    "plt.title('Line Plot 3')\n",
    "\n",
    "plt.subplot(2, 2, 4)\n",
    "plt.plot(x4, y4)\n",
    "plt.title('Line Plot 4')\n",
    "\n",
    "plt.tight_layout()\n",
    "plt.show()\n"
   ]
  },
  {
   "cell_type": "code",
   "execution_count": null,
   "id": "e8190bcc-714d-4aa5-8f28-5295b401dd13",
   "metadata": {},
   "outputs": [],
   "source": [
    "4) A bar plot is a type of plot that presents categorical data with rectangular bars, with heights or lengths proportional to the values they represent. It is used to compare and visualize the differences between categorical data. Here's the code to plot a bar plot\n",
    "and a horizontal bar plot using the provided data\n",
    "\n",
    "import numpy as np\n",
    "import matplotlib.pyplot as plt\n",
    "\n",
    "company = np.array([\"Apple\", \"Microsoft\", \"Google\", \"AMD\"])\n",
    "profit = np.array([3000, 8000, 1000, 10000])\n",
    "\n",
    "plt.figure(figsize=(10, 5))\n",
    "\n",
    "plt.subplot(1, 2, 1)\n",
    "plt.bar(company, profit, color='skyblue')\n",
    "plt.title('Bar Plot')\n",
    "plt.xlabel('Company')\n",
    "plt.ylabel('Profit')\n",
    "\n",
    "plt.subplot(1, 2, 2)\n",
    "plt.barh(company, profit, color='salmon')\n",
    "plt.title('Horizontal Bar Plot')\n",
    "plt.xlabel('Profit')\n",
    "plt.ylabel('Company')\n",
    "\n",
    "plt.tight_layout()\n",
    "plt.show()\n"
   ]
  },
  {
   "cell_type": "code",
   "execution_count": null,
   "id": "5e07f039-0fb3-4d71-86fa-e4461ba7e2c3",
   "metadata": {},
   "outputs": [],
   "source": [
    "5) A box plot, also known as a box-and-whisker plot, is a graphical representation of the distribution of data based on a five-number summary: minimum, first quartile (Q1), median, third quartile (Q3), and maximum. It is used to identify outliers, variability, and skewness in the data distribution. Here's the code to plot a box plot using the provided data\n",
    "\n",
    "import numpy as np\n",
    "import matplotlib.pyplot as plt\n",
    "\n",
    "box1 = np.random.normal(100, 10, 200)\n",
    "box2 = np.random.normal(90, 20, 200)\n",
    "\n",
    "plt.boxplot([box1, box2], labels=['Box 1', 'Box 2'])\n",
    "plt.title('Box Plot')\n",
    "plt.xlabel('Box')\n",
    "plt.ylabel('Value')\n",
    "plt.show()\n"
   ]
  }
 ],
 "metadata": {
  "kernelspec": {
   "display_name": "Python 3 (ipykernel)",
   "language": "python",
   "name": "python3"
  },
  "language_info": {
   "codemirror_mode": {
    "name": "ipython",
    "version": 3
   },
   "file_extension": ".py",
   "mimetype": "text/x-python",
   "name": "python",
   "nbconvert_exporter": "python",
   "pygments_lexer": "ipython3",
   "version": "3.10.8"
  }
 },
 "nbformat": 4,
 "nbformat_minor": 5
}
