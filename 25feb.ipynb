{
 "cells": [
  {
   "cell_type": "code",
   "execution_count": 3,
   "id": "35b31dc4-55df-476a-a7d9-dfa5c8dc11ac",
   "metadata": {},
   "outputs": [],
   "source": [
    "import pandas as pd\n",
    "course_name = ['Data Science', 'Machine Learning', 'Big Data', 'Data Engineer']\n",
    "duration = [2,3,6,4]\n",
    "df = pd.DataFrame(data = {'course_name' : course_name, 'duration' : duration})"
   ]
  },
  {
   "cell_type": "code",
   "execution_count": 4,
   "id": "5a0bbdd1-2809-4af1-87fe-1bf8960f987a",
   "metadata": {},
   "outputs": [
    {
     "data": {
      "text/html": [
       "<div>\n",
       "<style scoped>\n",
       "    .dataframe tbody tr th:only-of-type {\n",
       "        vertical-align: middle;\n",
       "    }\n",
       "\n",
       "    .dataframe tbody tr th {\n",
       "        vertical-align: top;\n",
       "    }\n",
       "\n",
       "    .dataframe thead th {\n",
       "        text-align: right;\n",
       "    }\n",
       "</style>\n",
       "<table border=\"1\" class=\"dataframe\">\n",
       "  <thead>\n",
       "    <tr style=\"text-align: right;\">\n",
       "      <th></th>\n",
       "      <th>course_name</th>\n",
       "      <th>duration</th>\n",
       "    </tr>\n",
       "  </thead>\n",
       "  <tbody>\n",
       "    <tr>\n",
       "      <th>0</th>\n",
       "      <td>Data Science</td>\n",
       "      <td>2</td>\n",
       "    </tr>\n",
       "    <tr>\n",
       "      <th>1</th>\n",
       "      <td>Machine Learning</td>\n",
       "      <td>3</td>\n",
       "    </tr>\n",
       "    <tr>\n",
       "      <th>2</th>\n",
       "      <td>Big Data</td>\n",
       "      <td>6</td>\n",
       "    </tr>\n",
       "    <tr>\n",
       "      <th>3</th>\n",
       "      <td>Data Engineer</td>\n",
       "      <td>4</td>\n",
       "    </tr>\n",
       "  </tbody>\n",
       "</table>\n",
       "</div>"
      ],
      "text/plain": [
       "        course_name  duration\n",
       "0      Data Science         2\n",
       "1  Machine Learning         3\n",
       "2          Big Data         6\n",
       "3     Data Engineer         4"
      ]
     },
     "execution_count": 4,
     "metadata": {},
     "output_type": "execute_result"
    }
   ],
   "source": [
    "df"
   ]
  },
  {
   "cell_type": "code",
   "execution_count": 9,
   "id": "11e329dd-83c0-41fa-98ac-e07b9568c56b",
   "metadata": {},
   "outputs": [
    {
     "data": {
      "text/html": [
       "<div>\n",
       "<style scoped>\n",
       "    .dataframe tbody tr th:only-of-type {\n",
       "        vertical-align: middle;\n",
       "    }\n",
       "\n",
       "    .dataframe tbody tr th {\n",
       "        vertical-align: top;\n",
       "    }\n",
       "\n",
       "    .dataframe thead th {\n",
       "        text-align: right;\n",
       "    }\n",
       "</style>\n",
       "<table border=\"1\" class=\"dataframe\">\n",
       "  <thead>\n",
       "    <tr style=\"text-align: right;\">\n",
       "      <th></th>\n",
       "      <th>course_name</th>\n",
       "      <th>duration</th>\n",
       "    </tr>\n",
       "  </thead>\n",
       "  <tbody>\n",
       "    <tr>\n",
       "      <th>1</th>\n",
       "      <td>Machine Learning</td>\n",
       "      <td>3</td>\n",
       "    </tr>\n",
       "  </tbody>\n",
       "</table>\n",
       "</div>"
      ],
      "text/plain": [
       "        course_name  duration\n",
       "1  Machine Learning         3"
      ]
     },
     "execution_count": 9,
     "metadata": {},
     "output_type": "execute_result"
    }
   ],
   "source": [
    "#Answer 1)\n",
    "\n",
    "df[1:2]"
   ]
  },
  {
   "cell_type": "code",
   "execution_count": 10,
   "id": "cee81100-017e-4f55-93e0-ef96d1f746bf",
   "metadata": {},
   "outputs": [
    {
     "name": "stdout",
     "output_type": "stream",
     "text": [
      "4\n"
     ]
    }
   ],
   "source": [
    "#Answer 2\n",
    "\n",
    "# iloc is used for integer-based indexing and selection. It allows you to select rows and columns by their integer positions, similar to how indexing works in Python lists. With iloc, you specify the row and column positions using integer-based indexing starting from 0.\n",
    "\n",
    "import pandas as pd\n",
    "\n",
    "df = pd.DataFrame({'A': [1, 2, 3], 'B': [4, 5, 6], 'C': [7, 8, 9]})\n",
    "\n",
    "# Select the value at row 0, column 1\n",
    "value = df.iloc[0, 1]\n",
    "print(value)  # Output: 4\n"
   ]
  },
  {
   "cell_type": "code",
   "execution_count": 12,
   "id": "9e5b7d18-6ec8-46ae-b034-2d8851d0657a",
   "metadata": {},
   "outputs": [
    {
     "name": "stdout",
     "output_type": "stream",
     "text": [
      "5\n"
     ]
    }
   ],
   "source": [
    "# loc is used for label-based indexing and selection. It allows you to select rows and columns based on their labels or index names. With loc, you specify the row and column labels instead of integer positions.\n",
    "\n",
    "import pandas as pd\n",
    "\n",
    "df = pd.DataFrame({'A': [1, 2, 3], 'B': [4, 5, 6], 'C': [7, 8, 9]}, index=['X', 'Y', 'Z'])\n",
    "\n",
    "# Select the value at row 'Y', column 'B'\n",
    "value = df.loc['Y', 'B']\n",
    "print(value)  # Output: 5\n"
   ]
  },
  {
   "cell_type": "code",
   "execution_count": 14,
   "id": "8e56992e-a299-4c91-b311-94750fb617be",
   "metadata": {},
   "outputs": [],
   "source": [
    "# Answer 3\n",
    "\n",
    "import pandas as pd\n",
    "import numpy as np\n",
    "\n",
    "columns = ['column_1', 'column_2', 'column_3', 'column_4', 'column_5', 'column_6']\n",
    "indices = [1, 2, 3, 4, 5, 6]\n",
    "df1 = pd.DataFrame(np.random.rand(6, 6), columns=columns, index=indices)\n",
    "\n",
    "reindex = [3, 0, 1, 2]\n",
    "new_df = df1.reindex(reindex)\n",
    "\n",
    "print(new_df.loc[2])\n",
    "print(new_df.iloc[2])\n"
   ]
  },
  {
   "cell_type": "code",
   "execution_count": null,
   "id": "5180c039-5e1b-468d-a7b6-c2342c342cff",
   "metadata": {},
   "outputs": [],
   "source": [
    "Answer 4)\n",
    "\n",
    "# (i) Mean of each and every column\n",
    "column_means = df1.mean()\n",
    "print(column_means)\n",
    "\n",
    "# (ii) Standard deviation of column 'column_2'\n",
    "column_2_std = df1['column_2'].std()\n",
    "print(column_2_std)\n"
   ]
  },
  {
   "cell_type": "code",
   "execution_count": null,
   "id": "1178f4ab-4e39-46cb-9893-0dd4e37eaaa0",
   "metadata": {},
   "outputs": [],
   "source": [
    "Ans 5)\n",
    "\n",
    "# Replace data in the second row of column 'column_2' with a string variable\n",
    "df1.loc[2, 'column_2'] = 'String Data'\n",
    "\n",
    "# Find the mean of column 'column_2'\n",
    "column_2_mean = df1['column_2'].mean()\n",
    "print(column_2_mean)"
   ]
  },
  {
   "cell_type": "code",
   "execution_count": null,
   "id": "4587334a-8c5e-4eba-bf59-d5968fb156cb",
   "metadata": {},
   "outputs": [],
   "source": [
    "Ans 6)\n",
    "\n",
    "Windows functions in pandas refer to operations that operate on a fixed-size moving window of data. They are applied to a specified column or a group of columns in a DataFrame, where calculations are performed over a rolling or expanding window. Common window functions in pandas include rolling(), expanding(), and ewm().\n",
    "\n",
    "rolling() allows you to perform calculations over a rolling window of a specified size. It is commonly used for moving averages, cumulative sums, or other rolling statistics.\n",
    "expanding() computes calculations over an expanding window that includes all preceding values. It is useful for calculating cumulative sums, running totals, or other expanding statistics.\n",
    "ewm() performs exponentially weighted calculations, where more recent values are given higher weightage. It is often used to calculate exponentially weighted moving averages."
   ]
  },
  {
   "cell_type": "code",
   "execution_count": null,
   "id": "df9949b5-14fa-411f-a7b2-ba2ed5bb3f53",
   "metadata": {},
   "outputs": [],
   "source": [
    "Ans 7)\n",
    "\n",
    "import pandas as pd\n",
    "\n",
    "current_date = pd.Timestamp.now()\n",
    "current_month_year = current_date.strftime('%B %Y')\n",
    "print(current_month_year)\n"
   ]
  },
  {
   "cell_type": "code",
   "execution_count": null,
   "id": "92743106-5020-42b0-8977-f7bc0ace292c",
   "metadata": {},
   "outputs": [],
   "source": [
    "Ans 8)\n",
    "\n",
    "import pandas as pd\n",
    "\n",
    "date1 = pd.Timestamp(input('Enter the first date (YYYY-MM-DD): '))\n",
    "date2 = pd.Timestamp(input('Enter the second date (YYYY-MM-DD): '))\n",
    "\n",
    "time_difference = date2 - date1\n",
    "\n",
    "print(f'Difference: {time_difference.days} days, {time_difference.seconds // 3600} hours, {time_difference.seconds // 60 % 60} minutes')\n"
   ]
  },
  {
   "cell_type": "code",
   "execution_count": null,
   "id": "9cda359a-69f0-45af-9486-c05b86f481cf",
   "metadata": {},
   "outputs": [],
   "source": [
    "Ans 9)\n",
    "\n",
    "import pandas as pd\n",
    "\n",
    "# Prompt the user for file path, column name, and category order\n",
    "file_path = input(\"Enter the file path of the CSV file: \")\n",
    "column_name = input(\"Enter the column name to convert to categorical: \")\n",
    "category_order = input(\"Enter the category order (comma-separated): \").split(\",\")\n",
    "\n",
    "# Read the CSV file into a DataFrame\n",
    "df = pd.read_csv(file_path)\n",
    "\n",
    "# Convert the specified column to categorical data type\n",
    "df[column_name] = pd.Categorical(df[column_name], categories=category_order, ordered=True)\n",
    "\n",
    "# Display the sorted data\n",
    "sorted_df = df.sort_values(column_name)\n",
    "print(sorted_df)\n"
   ]
  },
  {
   "cell_type": "code",
   "execution_count": null,
   "id": "1ce40f69-dcdd-4f41-a1ce-d25c7a0c144d",
   "metadata": {},
   "outputs": [],
   "source": [
    "Ans 10)\n",
    "\n",
    "import pandas as pd\n",
    "import matplotlib.pyplot as plt\n",
    "\n",
    "# Prompt the user for the file path\n",
    "file_path = input(\"Enter the file path of the CSV file: \")\n",
    "\n",
    "# Read the CSV file into a DataFrame\n",
    "df = pd.read_csv(file_path)\n",
    "\n",
    "# Group the data by product category and sum the sales for each category\n",
    "category_sales = df.groupby('Product Category')['Sales'].sum()\n",
    "\n",
    "# Plot the stacked bar chart\n",
    "category_sales.plot(kind='bar', stacked=True)\n",
    "\n",
    "# Customize the chart\n",
    "plt.title('Sales by Product Category')\n",
    "plt.xlabel('Product Category')\n",
    "plt.ylabel('Sales')\n",
    "\n",
    "# Display the chart\n",
    "plt.show()\n"
   ]
  },
  {
   "cell_type": "code",
   "execution_count": null,
   "id": "dc017204-b1d1-4c13-b663-99316411471e",
   "metadata": {},
   "outputs": [],
   "source": [
    "Ans 11)\n",
    "\n",
    "import pandas as pd\n",
    "\n",
    "# Prompt the user for the file path\n",
    "file_path = input(\"Enter the file path of the CSV file containing the student data: \")\n",
    "\n",
    "# Read the CSV file into a DataFrame\n",
    "df = pd.read_csv(file_path)\n",
    "\n",
    "# Calculate the mean, median, and mode of the test scores\n",
    "mean_score = df['Test Score'].mean()\n",
    "median_score = df['Test Score'].median()\n",
    "mode_scores = df['Test Score'].mode()\n",
    "\n",
    "# Create a table to display the results\n",
    "result_table = pd.DataFrame({'Statistic': ['Mean', 'Median', 'Mode'],\n",
    "                             'Value': [mean_score, median_score, ', '.join(map(str, mode_scores))]})\n",
    "print(result_table)\n"
   ]
  }
 ],
 "metadata": {
  "kernelspec": {
   "display_name": "Python 3 (ipykernel)",
   "language": "python",
   "name": "python3"
  },
  "language_info": {
   "codemirror_mode": {
    "name": "ipython",
    "version": 3
   },
   "file_extension": ".py",
   "mimetype": "text/x-python",
   "name": "python",
   "nbconvert_exporter": "python",
   "pygments_lexer": "ipython3",
   "version": "3.10.8"
  }
 },
 "nbformat": 4,
 "nbformat_minor": 5
}
