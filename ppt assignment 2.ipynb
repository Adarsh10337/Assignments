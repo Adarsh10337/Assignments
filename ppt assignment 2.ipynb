{
 "cells": [
  {
   "cell_type": "code",
   "execution_count": 1,
   "id": "f6948b4b-7524-4e1c-9e31-329e85e64085",
   "metadata": {},
   "outputs": [
    {
     "name": "stdout",
     "output_type": "stream",
     "text": [
      "4\n"
     ]
    }
   ],
   "source": [
    "def arrayPairSum(nums):\n",
    "    nums.sort()\n",
    "    pair_sum = 0\n",
    "    \n",
    "    for i in range(0, len(nums), 2):\n",
    "        pair_sum += nums[i]\n",
    "    \n",
    "    return pair_sum\n",
    "\n",
    "# Example usage\n",
    "nums = [1, 4, 3, 2]\n",
    "result = arrayPairSum(nums)\n",
    "print(result)\n"
   ]
  },
  {
   "cell_type": "code",
   "execution_count": 2,
   "id": "d42b77d5-70bf-4cc7-866b-4caf7f8fe203",
   "metadata": {},
   "outputs": [
    {
     "name": "stdout",
     "output_type": "stream",
     "text": [
      "3\n"
     ]
    }
   ],
   "source": [
    "def distributeCandies(candyType):\n",
    "    max_candies = len(candyType) // 2\n",
    "    unique_candies = len(set(candyType))\n",
    "    \n",
    "    return min(unique_candies, max_candies)\n",
    "\n",
    "# Example usage\n",
    "candyType = [1, 1, 2, 2, 3, 3]\n",
    "result = distributeCandies(candyType)\n",
    "print(result)\n"
   ]
  },
  {
   "cell_type": "code",
   "execution_count": 3,
   "id": "0ef9031b-3e76-415c-a940-c11befdce5c4",
   "metadata": {},
   "outputs": [
    {
     "name": "stdout",
     "output_type": "stream",
     "text": [
      "5\n"
     ]
    }
   ],
   "source": [
    "def findLHS(nums):\n",
    "    num_counts = {}\n",
    "    max_length = 0\n",
    "    \n",
    "    for num in nums:\n",
    "        num_counts[num] = num_counts.get(num, 0) + 1\n",
    "        \n",
    "        if num + 1 in num_counts:\n",
    "            max_length = max(max_length, num_counts[num] + num_counts[num + 1])\n",
    "        \n",
    "        if num - 1 in num_counts:\n",
    "            max_length = max(max_length, num_counts[num] + num_counts[num - 1])\n",
    "    \n",
    "    return max_length\n",
    "\n",
    "# Example usage\n",
    "nums = [1, 3, 2, 2, 5, 2, 3, 7]\n",
    "result = findLHS(nums)\n",
    "print(result)\n"
   ]
  },
  {
   "cell_type": "code",
   "execution_count": 4,
   "id": "be4d3974-35b1-42f6-b71d-8163c5798548",
   "metadata": {},
   "outputs": [
    {
     "name": "stdout",
     "output_type": "stream",
     "text": [
      "True\n"
     ]
    }
   ],
   "source": [
    "def canPlaceFlowers(flowerbed, n):\n",
    "    count = 0\n",
    "    length = len(flowerbed)\n",
    "    i = 0\n",
    "    \n",
    "    while i < length:\n",
    "        if flowerbed[i] == 0 and (i == 0 or flowerbed[i-1] == 0) and (i == length-1 or flowerbed[i+1] == 0):\n",
    "            flowerbed[i] = 1\n",
    "            count += 1\n",
    "            i += 1\n",
    "        \n",
    "        if count >= n:\n",
    "            return True\n",
    "        \n",
    "        i += 1\n",
    "    \n",
    "    return False\n",
    "\n",
    "# Example usage\n",
    "flowerbed = [1, 0, 0, 0, 1]\n",
    "n = 1\n",
    "result = canPlaceFlowers(flowerbed, n)\n",
    "print(result)\n"
   ]
  },
  {
   "cell_type": "code",
   "execution_count": 5,
   "id": "40ae8e3a-d299-44c0-877d-38ca3c2aff1f",
   "metadata": {},
   "outputs": [
    {
     "name": "stdout",
     "output_type": "stream",
     "text": [
      "6\n"
     ]
    }
   ],
   "source": [
    "def maximumProduct(nums):\n",
    "    nums.sort()\n",
    "    n = len(nums)\n",
    "    return max(nums[0] * nums[1] * nums[n-1], nums[n-3] * nums[n-2] * nums[n-1])\n",
    "\n",
    "# Example usage\n",
    "nums = [1, 2, 3]\n",
    "result = maximumProduct(nums)\n",
    "print(result)\n"
   ]
  },
  {
   "cell_type": "code",
   "execution_count": 6,
   "id": "a7bf5b90-7a59-40b3-9fe6-caba51e85110",
   "metadata": {},
   "outputs": [
    {
     "name": "stdout",
     "output_type": "stream",
     "text": [
      "4\n"
     ]
    }
   ],
   "source": [
    "def search(nums, target):\n",
    "    left = 0\n",
    "    right = len(nums) - 1\n",
    "    \n",
    "    while left <= right:\n",
    "        middle = (left + right) // 2\n",
    "        \n",
    "        if nums[middle] == target:\n",
    "            return middle\n",
    "        elif nums[middle] < target:\n",
    "            left = middle + 1\n",
    "        else:\n",
    "            right = middle - 1\n",
    "    \n",
    "    return -1\n",
    "\n",
    "# Example usage\n",
    "nums = [-1, 0, 3, 5, 9, 12]\n",
    "target = 9\n",
    "result = search(nums, target)\n",
    "print(result)\n"
   ]
  },
  {
   "cell_type": "code",
   "execution_count": 7,
   "id": "5853224f-eff2-480a-aeaa-2770113624ec",
   "metadata": {},
   "outputs": [
    {
     "name": "stdout",
     "output_type": "stream",
     "text": [
      "True\n"
     ]
    }
   ],
   "source": [
    "def isMonotonic(nums):\n",
    "    increasing = False\n",
    "    decreasing = False\n",
    "    \n",
    "    for i in range(len(nums) - 1):\n",
    "        if nums[i] < nums[i+1]:\n",
    "            increasing = True\n",
    "        elif nums[i] > nums[i+1]:\n",
    "            decreasing = True\n",
    "        \n",
    "        if increasing and decreasing:\n",
    "            return False\n",
    "    \n",
    "    return True\n",
    "\n",
    "# Example usage\n",
    "nums = [1, 2, 2, 3]\n",
    "result = isMonotonic(nums)\n",
    "print(result)\n"
   ]
  },
  {
   "cell_type": "code",
   "execution_count": 8,
   "id": "1cd9e50b-7b72-47f4-9a0e-c947219cfc0f",
   "metadata": {},
   "outputs": [
    {
     "name": "stdout",
     "output_type": "stream",
     "text": [
      "0\n"
     ]
    }
   ],
   "source": [
    "def minDifference(nums, k):\n",
    "    if len(nums) <= 4:\n",
    "        return 0\n",
    "    \n",
    "    nums.sort()\n",
    "    n = len(nums)\n",
    "    \n",
    "    return min(nums[n-1] - nums[3], nums[n-2] - nums[2], nums[n-3] - nums[1], nums[n-4] - nums[0])\n",
    "\n",
    "# Example usage\n",
    "nums = [1]\n",
    "k = 0\n",
    "result = minDifference(nums, k)\n",
    "print(result)\n"
   ]
  },
  {
   "cell_type": "code",
   "execution_count": null,
   "id": "75788980-e437-4270-b0fe-9a3551a41338",
   "metadata": {},
   "outputs": [],
   "source": []
  }
 ],
 "metadata": {
  "kernelspec": {
   "display_name": "Python 3 (ipykernel)",
   "language": "python",
   "name": "python3"
  },
  "language_info": {
   "codemirror_mode": {
    "name": "ipython",
    "version": 3
   },
   "file_extension": ".py",
   "mimetype": "text/x-python",
   "name": "python",
   "nbconvert_exporter": "python",
   "pygments_lexer": "ipython3",
   "version": "3.10.8"
  }
 },
 "nbformat": 4,
 "nbformat_minor": 5
}
