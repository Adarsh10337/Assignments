{
 "cells": [
  {
   "cell_type": "code",
   "execution_count": null,
   "id": "145f825c-e88c-4e04-abe9-44a9000885e4",
   "metadata": {},
   "outputs": [],
   "source": [
    "ANS 1)\n",
    "\n",
    "In Python, the def keyword is used to define a function.\n",
    "Example-:\n",
    "def greet(name):\n",
    "    print(\"Hello, \" + name + \"!\")\n",
    "\n",
    "greet(\"data science\")\n",
    "----------------------------------------------------\n",
    "\n",
    "def test():\n",
    "    a = []\n",
    "    for i in range (1,26):\n",
    "        if i % 2 != 0:\n",
    "            a.append(i)\n",
    "    print(a)\n",
    "test()\n",
    "\n",
    "OUTPUT-:\n",
    "    [1, 3, 5, 7, 9, 11, 13, 15, 17, 19, 21, 23, 25]"
   ]
  },
  {
   "cell_type": "code",
   "execution_count": null,
   "id": "82211145-1f6c-4f88-bb4f-c7e2fc8430c6",
   "metadata": {},
   "outputs": [],
   "source": [
    "ANS 2)\n",
    "\n",
    "*args and **kwargs are used as a special syntax in Python to allow a function to take a variable number of arguments.\n",
    "\n",
    "*args is used to send a non-keyworded variable length argument list to the function.\n",
    "It allows you to pass an arbitrary number of arguments to a function. \n",
    "The arguments passed to the function using *args are packaged into a tuple.\n",
    "\n",
    "Example -: \n",
    "    def print_args(*args):\n",
    "    for arg in args:\n",
    "        print(arg)\n",
    "\n",
    "print_args(1, 2, 3)\n",
    "\n",
    "**kwargs is used to pass keyworded variable length of arguments to a function. \n",
    "The arguments passed to the function using **kwargs are packaged into a dictionary.\n",
    "\n",
    "Example -:\n",
    "    \n",
    "def print_kwargs(**kwargs):\n",
    "    for key, value in kwargs.items():\n",
    "        print(f\"{key}: {value}\")\n",
    "\n",
    "print_kwargs(name=\"python\", breed=\"developer\")\n"
   ]
  },
  {
   "cell_type": "code",
   "execution_count": null,
   "id": "b6f2ab9b-8b85-4a70-a59f-38faf89cd17b",
   "metadata": {},
   "outputs": [],
   "source": [
    "ANS 3)\n",
    "\n",
    "In Python, an iterator is an object that implements the iter method and the next method (or __next__ in Python 3),\n",
    "which are used to iterate over a collection of items, such as a list or a string.\n",
    "\n",
    "The iter method is used to initialize the iterator object, and the next method is used to retrieve the next item in the iteration.\n",
    "When there are no more items to return, the next method raises a StopIteration exception to indicate the end of the iteration.\n",
    "\n",
    "lst = [2, 4, 6, 8, 10, 12, 14, 16, 18, 20]\n",
    "\n",
    "it = iter(lst)\n",
    "\n",
    "for i in range(5):\n",
    "    print(next(it))\n"
   ]
  },
  {
   "cell_type": "code",
   "execution_count": null,
   "id": "edd4f354-ae8c-48a3-adf2-e9d114ae1d0e",
   "metadata": {},
   "outputs": [],
   "source": [
    "ANS 4) \n",
    "\n",
    "In Python, a generator function is a special type of function that uses the yield keyword instead of return to return a value. \n",
    "Unlike regular functions, which return a value and exit, \n",
    "a generator function returns a generator object that can be used to iterate over a sequence of values.\n",
    "\n",
    "The yield keyword is used in generator functions because it allows the function to return a value while also maintaining its state, \n",
    "so that it can be resumed later on. This is a convenient way to generate a sequence of values, \n",
    "especially when the sequence is too large to be stored in memory all at once.\n",
    "\n",
    "def fibonacci(n):\n",
    "    a, b = 0, 1\n",
    "    for i in range(n):\n",
    "        yield a\n",
    "        a = b\n",
    "        b = a + b\n",
    "\n",
    "fib = fibonacci(10)\n",
    "\n",
    "for i in fib:\n",
    "    print(i)\n"
   ]
  },
  {
   "cell_type": "code",
   "execution_count": null,
   "id": "8350d013-6f6c-4778-959a-f24414a0a10b",
   "metadata": {},
   "outputs": [],
   "source": [
    "ANS 5)\n",
    "\n",
    "def gprimes():\n",
    "    yield 2\n",
    "    primes = [2]\n",
    "    num = 3\n",
    "\n",
    "    while num < 1000:\n",
    "        for prime in primes:\n",
    "            if prime*prime > num:\n",
    "                primes.append(num)\n",
    "                yield num\n",
    "                break\n",
    "            if num % 2 == 0:\n",
    "                break\n",
    "        num += 2\n",
    "\n",
    "a = gprimes()\n",
    "for i in range(10):\n",
    "    print(next(a))"
   ]
  },
  {
   "cell_type": "code",
   "execution_count": null,
   "id": "2585b326-76f0-45b2-b81b-7b652ed81519",
   "metadata": {},
   "outputs": [],
   "source": [
    "ANS 6)\n",
    "\n",
    "a = int(input())\n",
    "n1,n2=0,1\n",
    "count = 0\n",
    "\n",
    "while count<a:\n",
    "    print(n1)\n",
    "    nth = n1 + n2\n",
    "    n1 = n2\n",
    "    n2 = nth\n",
    "    count += 1"
   ]
  },
  {
   "cell_type": "code",
   "execution_count": null,
   "id": "4e173c11-9273-4b93-9176-3a83fd9d630c",
   "metadata": {},
   "outputs": [],
   "source": [
    "ANS 7)\n",
    "\n",
    "a = \"pwskills\"\n",
    "r = [i for i in a]\n",
    "print(r)"
   ]
  },
  {
   "cell_type": "code",
   "execution_count": 2,
   "id": "3ee1c987-2b6f-4e48-88e6-4ac059d766f0",
   "metadata": {},
   "outputs": [
    {
     "name": "stdout",
     "output_type": "stream",
     "text": [
      "True\n"
     ]
    }
   ],
   "source": [
    "ANS 8)\n",
    "\n",
    "def palindrome(a):\n",
    "    orig = a\n",
    "    rev = 0\n",
    "    while a > 0:\n",
    "        b = a % 10\n",
    "        rev = rev * 10 + b\n",
    "        a = a // 10\n",
    "    return orig == rev\n",
    "print(palindrome(2552))"
   ]
  },
  {
   "cell_type": "code",
   "execution_count": null,
   "id": "52ce2898-0edb-4e8c-9c95-a9c33e4a0cc9",
   "metadata": {},
   "outputs": [],
   "source": [
    "ANS 9)\n",
    "\n",
    "a = []\n",
    "b = [i for i in range(1,101)]\n",
    "c = [j for j in b if j % 2 !=0]\n",
    "print(c)"
   ]
  }
 ],
 "metadata": {
  "kernelspec": {
   "display_name": "Python 3 (ipykernel)",
   "language": "python",
   "name": "python3"
  },
  "language_info": {
   "codemirror_mode": {
    "name": "ipython",
    "version": 3
   },
   "file_extension": ".py",
   "mimetype": "text/x-python",
   "name": "python",
   "nbconvert_exporter": "python",
   "pygments_lexer": "ipython3",
   "version": "3.10.8"
  }
 },
 "nbformat": 4,
 "nbformat_minor": 5
}
