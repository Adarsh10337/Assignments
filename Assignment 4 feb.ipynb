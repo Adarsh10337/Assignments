{
 "cells": [
  {
   "cell_type": "code",
   "execution_count": null,
   "id": "a3342d99-bc5f-4f75-ba6b-c69577d9639f",
   "metadata": {},
   "outputs": [],
   "source": [
    "ANS 1)\n",
    "\n",
    "lst = [('Sachin Tendulkar', 34357), ('Ricky Ponting', 27483), ('Jack Kallis', 25534), ('Virat Kohli', 24936)]\n",
    "sorted_lst = sorted(lst, key = lambda x: x[1])\n",
    "print(sorted_lst)"
   ]
  },
  {
   "cell_type": "code",
   "execution_count": null,
   "id": "cb1bc2de-f62b-43e9-9cbe-87f4ff5b3a29",
   "metadata": {},
   "outputs": [],
   "source": [
    "ANS 2)\n",
    "\n",
    "l = [1, 2, 3, 4, 5, 6, 7, 8, 9, 10]\n",
    "print(list(map(lambda l : l**2, l)))"
   ]
  },
  {
   "cell_type": "code",
   "execution_count": null,
   "id": "5f14bb18-2a0d-43ed-9e0f-9c9e9a457fb4",
   "metadata": {},
   "outputs": [],
   "source": [
    "ANS 3)\n",
    "\n",
    "l = [1, 2, 3, 4, 5, 6, 7, 8, 9, 10]\n",
    "\n",
    "a = tuple(map(lambda l: l, l))\n",
    "str_tup = tuple(str(i) for i in a)\n",
    "print(str_tup)"
   ]
  },
  {
   "cell_type": "code",
   "execution_count": null,
   "id": "0f3f973a-15cc-4170-b84c-df7a25e305bb",
   "metadata": {},
   "outputs": [],
   "source": [
    "ANS 4)\n",
    "\n",
    "from functools import reduce\n",
    "\n",
    "m = []\n",
    "for i in range(1,26):\n",
    "    m.append(i)\n",
    "print(reduce(lambda x,y: x*y,m))\n"
   ]
  },
  {
   "cell_type": "code",
   "execution_count": null,
   "id": "45729cc1-47d9-49ec-b1f2-23a6bcd62cff",
   "metadata": {},
   "outputs": [],
   "source": [
    "ANS 5)\n",
    "\n",
    "l = [2, 3, 6, 9, 27, 60, 90, 120, 55, 46]\n",
    "\n",
    "a = list(filter(lambda x: x % 2 == 0 and x % 3 == 0 , l))\n",
    "print(a)"
   ]
  },
  {
   "cell_type": "code",
   "execution_count": null,
   "id": "5d8a60ca-99a5-4751-b36a-2025e3e2b415",
   "metadata": {},
   "outputs": [],
   "source": [
    "ANS 6)\n",
    "\n",
    "l =['python', 'php', 'aba', 'radar', 'level']\n",
    "\n",
    "a = list(filter(lambda x: x == x[::-1],l))\n",
    "print(a)"
   ]
  }
 ],
 "metadata": {
  "kernelspec": {
   "display_name": "Python 3 (ipykernel)",
   "language": "python",
   "name": "python3"
  },
  "language_info": {
   "codemirror_mode": {
    "name": "ipython",
    "version": 3
   },
   "file_extension": ".py",
   "mimetype": "text/x-python",
   "name": "python",
   "nbconvert_exporter": "python",
   "pygments_lexer": "ipython3",
   "version": "3.10.8"
  }
 },
 "nbformat": 4,
 "nbformat_minor": 5
}
