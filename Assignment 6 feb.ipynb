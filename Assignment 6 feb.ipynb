{
 "cells": [
  {
   "cell_type": "code",
   "execution_count": null,
   "id": "0725ea88-c445-4091-bcc4-c8c14e2e4278",
   "metadata": {},
   "outputs": [],
   "source": [
    "ANS 1)\n",
    "\n",
    "def product_of_numbers(lst):\n",
    "    flat_list = []\n",
    "    for item in lst:\n",
    "        if isinstance(item, (list, tuple, set)):\n",
    "            flat_list += [x for x in item if x is not False]\n",
    "        elif item is not False:\n",
    "            flat_list.append(item)\n",
    "\n",
    "\n",
    "    product = 1\n",
    "    has_zero = False\n",
    "    for item in flat_list:\n",
    "        if isinstance(item, (int, float)):\n",
    "            if item == 0:\n",
    "                has_zero = True\n",
    "            else:\n",
    "                product *= item\n",
    "    \n",
    "    return product if not has_zero else None\n",
    "\n",
    "\n",
    "list1 = [1,2,3,4, [44,55,66, True], False, (34,56,78,89,34), {1,2,3,3,2,1}, {1:34, \"key2\": [55, 67, 78, 89], 4: (45, 22, 61, 34)}, [56, 'data science'], 'Machine Learning']\n",
    "print(product_of_numbers(list1))"
   ]
  },
  {
   "cell_type": "code",
   "execution_count": null,
   "id": "cf6ef6c7-600c-45f5-bb49-a492c485fb39",
   "metadata": {},
   "outputs": [],
   "source": [
    "ANS 2)\n",
    "\n",
    "def enc(word):\n",
    "    word = word.lower()\n",
    "    out = \"\"\n",
    "    for i in word:\n",
    "        if i.isalpha():\n",
    "            out += chr(ord(\"z\") - ord(i) + ord(\"a\"))\n",
    "        elif i.isspace():\n",
    "            out += '$'\n",
    "        else:\n",
    "            out += i\n",
    "    return out\n",
    "\n",
    "a = input(\"enter your string: \")\n",
    "print(enc(a))\n"
   ]
  }
 ],
 "metadata": {
  "kernelspec": {
   "display_name": "Python 3 (ipykernel)",
   "language": "python",
   "name": "python3"
  },
  "language_info": {
   "codemirror_mode": {
    "name": "ipython",
    "version": 3
   },
   "file_extension": ".py",
   "mimetype": "text/x-python",
   "name": "python",
   "nbconvert_exporter": "python",
   "pygments_lexer": "ipython3",
   "version": "3.10.8"
  }
 },
 "nbformat": 4,
 "nbformat_minor": 5
}
