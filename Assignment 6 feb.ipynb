{
 "cells": [
  {
   "cell_type": "code",
   "execution_count": null,
   "id": "0725ea88-c445-4091-bcc4-c8c14e2e4278",
   "metadata": {},
   "outputs": [],
   "source": [
    "ANS 1)\n",
    "\n",
    "def flatlistproduct(list1):\n",
    "    flatlist = []\n",
    "    if isinstance(list1, list):\n",
    "        for element in list1:\n",
    "            if isinstance(element, list):\n",
    "                flatlist.extend(element)\n",
    "            elif isinstance(element, tuple):\n",
    "                flatlist.extend(list(element))\n",
    "            elif isinstance(element, dict):\n",
    "                flatlist.extend(list(element.keys()) + list(element.values()))\n",
    "            else:\n",
    "                flat_list.append(element)\n",
    "                \n",
    "     prod = 1\n",
    "    for i in flat_list:\n",
    "        if type(i) == int or type(i) == float:\n",
    "            prod *= i\n",
    "    return prod\n",
    "\n",
    "list1 = [1,2,3,4, [44,55,66, True], False, (34,56,78,89,34), {1,2,3,3,2,1}, {1:34, \"key2\": [55, 67, 78, 89], 4: (45,\n",
    "22, 61, 34)}, [56, 'data science'], 'Machine Learning']"
   ]
  },
  {
   "cell_type": "code",
   "execution_count": null,
   "id": "cf6ef6c7-600c-45f5-bb49-a492c485fb39",
   "metadata": {},
   "outputs": [],
   "source": [
    "ANS 2)\n",
    "\n",
    "#Lowercase the input sentence\n",
    "input_sentence = 'I want to become a Data Scientist'.lower()\n",
    "\n",
    "#Create an empty string to store the encrypted message\n",
    "encrypted_message = \"\"\n",
    "\n",
    "#Loop through each character in the input sentence\n",
    "for character in input_sentence:\n",
    "\n",
    "  #If character is a space, replace it with a dollar sign\n",
    "  if character == \" \":\n",
    "    encrypted_message += \"$\"\n",
    "\n",
    "  #If character is an alphabet, encrypt it using the logic provided\n",
    "  elif character.isalpha():\n",
    "    encrypted_message += chr(ord('z') - ord(character) + ord('a'))\n",
    "\n",
    "  #If character is a punctuation mark, keep it as it is\n",
    "  else:\n",
    "    encrypted_message += character\n",
    "\n",
    "#Print the encrypted message\n",
    "print(encrypted_message)"
   ]
  }
 ],
 "metadata": {
  "kernelspec": {
   "display_name": "Python 3 (ipykernel)",
   "language": "python",
   "name": "python3"
  },
  "language_info": {
   "codemirror_mode": {
    "name": "ipython",
    "version": 3
   },
   "file_extension": ".py",
   "mimetype": "text/x-python",
   "name": "python",
   "nbconvert_exporter": "python",
   "pygments_lexer": "ipython3",
   "version": "3.10.8"
  }
 },
 "nbformat": 4,
 "nbformat_minor": 5
}
